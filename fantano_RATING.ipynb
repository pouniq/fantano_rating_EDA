{
 "cells": [
  {
   "cell_type": "markdown",
   "metadata": {
    "id": "U7oGpdHpnW9r"
   },
   "source": [
    " # Fantano rating from 2010-2022\n",
    "  #### fantano (theneedledrop) is a music critic that discuss music and albums and rate them out of ten\n"
   ]
  },
  {
   "cell_type": "code",
   "execution_count": 10,
   "metadata": {
    "id": "bjfB4IyZnQHx"
   },
   "outputs": [],
   "source": [
    "#import the packages\n",
    "import pandas as pd\n",
    "import numpy as np\n",
    "import matplotlib.pyplot as plt\n",
    "import seaborn as sns"
   ]
  },
  {
   "cell_type": "code",
   "execution_count": 11,
   "metadata": {
    "colab": {
     "base_uri": "https://localhost:8080/"
    },
    "id": "_0A3fhZpnWCn",
    "outputId": "b0f4fc92-3fd4-48cc-aaca-24d30d9c0261"
   },
   "outputs": [],
   "source": [
    "# load the dataset\n",
    "data_url = 'https://drive.google.com/uc?export=download&id=1fGoz7iB2fIkGvE9fDPes4FwXkauLgFEX'\n",
    "df = pd.read_csv(data_url)"
   ]
  },
  {
   "cell_type": "code",
   "execution_count": 12,
   "metadata": {
    "colab": {
     "base_uri": "https://localhost:8080/"
    },
    "id": "JpKo3EReD463",
    "outputId": "d807adc2-115e-4389-e3d3-edff6439a62b"
   },
   "outputs": [
    {
     "data": {
      "text/plain": [
       "(3024, 10)"
      ]
     },
     "execution_count": 12,
     "metadata": {},
     "output_type": "execute_result"
    }
   ],
   "source": [
    "df.shape #data structure"
   ]
  },
  {
   "cell_type": "code",
   "execution_count": 13,
   "metadata": {
    "colab": {
     "base_uri": "https://localhost:8080/",
     "height": 293
    },
    "id": "yUmpwYWouXMQ",
    "outputId": "42b586ee-bbcf-47e5-8574-dd66cfcb4e02"
   },
   "outputs": [
    {
     "data": {
      "text/html": [
       "<div>\n",
       "<style scoped>\n",
       "    .dataframe tbody tr th:only-of-type {\n",
       "        vertical-align: middle;\n",
       "    }\n",
       "\n",
       "    .dataframe tbody tr th {\n",
       "        vertical-align: top;\n",
       "    }\n",
       "\n",
       "    .dataframe thead th {\n",
       "        text-align: right;\n",
       "    }\n",
       "</style>\n",
       "<table border=\"1\" class=\"dataframe\">\n",
       "  <thead>\n",
       "    <tr style=\"text-align: right;\">\n",
       "      <th></th>\n",
       "      <th>Unnamed: 0</th>\n",
       "      <th>spotify_id</th>\n",
       "      <th>youtube_id</th>\n",
       "      <th>project_name</th>\n",
       "      <th>artist</th>\n",
       "      <th>project_type</th>\n",
       "      <th>tracks</th>\n",
       "      <th>project_art</th>\n",
       "      <th>year</th>\n",
       "      <th>rating</th>\n",
       "    </tr>\n",
       "  </thead>\n",
       "  <tbody>\n",
       "    <tr>\n",
       "      <th>0</th>\n",
       "      <td>0</td>\n",
       "      <td>1B5Lwt0D1ZetRreaCBYobP</td>\n",
       "      <td>GMKfsj1fg5g</td>\n",
       "      <td>all day</td>\n",
       "      <td>girl talk</td>\n",
       "      <td>album</td>\n",
       "      <td>14.0</td>\n",
       "      <td>https://i.scdn.co/image/ab67616d000048510192ca...</td>\n",
       "      <td>2008.0</td>\n",
       "      <td>8.0</td>\n",
       "    </tr>\n",
       "    <tr>\n",
       "      <th>1</th>\n",
       "      <td>1</td>\n",
       "      <td>20r762YmB5HeofjMCiPMLv</td>\n",
       "      <td>Jo4S2qlQGs0</td>\n",
       "      <td>my beautiful dark twisted fantasy</td>\n",
       "      <td>kanye west</td>\n",
       "      <td>album</td>\n",
       "      <td>13.0</td>\n",
       "      <td>https://i.scdn.co/image/ab67616d00004851d9194a...</td>\n",
       "      <td>2010.0</td>\n",
       "      <td>6.0</td>\n",
       "    </tr>\n",
       "    <tr>\n",
       "      <th>2</th>\n",
       "      <td>2</td>\n",
       "      <td>35tQBmq1RblVUzAvfsw5uO</td>\n",
       "      <td>AyzpDXRVbwA</td>\n",
       "      <td>scary monsters and nice sprites</td>\n",
       "      <td>skrillex</td>\n",
       "      <td>ep</td>\n",
       "      <td>9.0</td>\n",
       "      <td>https://i.scdn.co/image/ab67616d0000485181cfaf...</td>\n",
       "      <td>2010.0</td>\n",
       "      <td>7.0</td>\n",
       "    </tr>\n",
       "    <tr>\n",
       "      <th>3</th>\n",
       "      <td>3</td>\n",
       "      <td>0X7WyEKdm5afGj1fmD7Blx</td>\n",
       "      <td>lVj-lS3bfUc</td>\n",
       "      <td>broken bells</td>\n",
       "      <td>broken bells</td>\n",
       "      <td>ep</td>\n",
       "      <td>10.0</td>\n",
       "      <td>https://i.scdn.co/image/ab67616d00004851e198b6...</td>\n",
       "      <td>2010.0</td>\n",
       "      <td>5.0</td>\n",
       "    </tr>\n",
       "    <tr>\n",
       "      <th>4</th>\n",
       "      <td>4</td>\n",
       "      <td>5zi7WsKlIiUXv09tbGLKsE</td>\n",
       "      <td>_2RPGAA6p4E</td>\n",
       "      <td>bastard</td>\n",
       "      <td>tyler, the creator</td>\n",
       "      <td>album</td>\n",
       "      <td>12.0</td>\n",
       "      <td>https://i.scdn.co/image/ab67616d00004851700588...</td>\n",
       "      <td>2019.0</td>\n",
       "      <td>7.0</td>\n",
       "    </tr>\n",
       "  </tbody>\n",
       "</table>\n",
       "</div>"
      ],
      "text/plain": [
       "   Unnamed: 0              spotify_id   youtube_id  \\\n",
       "0           0  1B5Lwt0D1ZetRreaCBYobP  GMKfsj1fg5g   \n",
       "1           1  20r762YmB5HeofjMCiPMLv  Jo4S2qlQGs0   \n",
       "2           2  35tQBmq1RblVUzAvfsw5uO  AyzpDXRVbwA   \n",
       "3           3  0X7WyEKdm5afGj1fmD7Blx  lVj-lS3bfUc   \n",
       "4           4  5zi7WsKlIiUXv09tbGLKsE  _2RPGAA6p4E   \n",
       "\n",
       "                        project_name              artist project_type  tracks  \\\n",
       "0                            all day           girl talk        album    14.0   \n",
       "1  my beautiful dark twisted fantasy          kanye west        album    13.0   \n",
       "2    scary monsters and nice sprites            skrillex           ep     9.0   \n",
       "3                       broken bells        broken bells           ep    10.0   \n",
       "4                            bastard  tyler, the creator        album    12.0   \n",
       "\n",
       "                                         project_art    year  rating  \n",
       "0  https://i.scdn.co/image/ab67616d000048510192ca...  2008.0     8.0  \n",
       "1  https://i.scdn.co/image/ab67616d00004851d9194a...  2010.0     6.0  \n",
       "2  https://i.scdn.co/image/ab67616d0000485181cfaf...  2010.0     7.0  \n",
       "3  https://i.scdn.co/image/ab67616d00004851e198b6...  2010.0     5.0  \n",
       "4  https://i.scdn.co/image/ab67616d00004851700588...  2019.0     7.0  "
      ]
     },
     "execution_count": 13,
     "metadata": {},
     "output_type": "execute_result"
    }
   ],
   "source": [
    "df.head() # first five rows of the dataset"
   ]
  },
  {
   "cell_type": "code",
   "execution_count": 14,
   "metadata": {
    "id": "dtSNXJtMugx3"
   },
   "outputs": [],
   "source": [
    "df = df.drop(['Unnamed: 0' , 'spotify_id','youtube_id' , 'project_art'] , axis = 1) # removing the unnecessary columns"
   ]
  },
  {
   "cell_type": "code",
   "execution_count": 15,
   "metadata": {
    "colab": {
     "base_uri": "https://localhost:8080/",
     "height": 206
    },
    "id": "0hBEcb32utG6",
    "outputId": "1547c91a-71a3-4aaf-ee5b-22432739a4ff"
   },
   "outputs": [
    {
     "data": {
      "text/html": [
       "<div>\n",
       "<style scoped>\n",
       "    .dataframe tbody tr th:only-of-type {\n",
       "        vertical-align: middle;\n",
       "    }\n",
       "\n",
       "    .dataframe tbody tr th {\n",
       "        vertical-align: top;\n",
       "    }\n",
       "\n",
       "    .dataframe thead th {\n",
       "        text-align: right;\n",
       "    }\n",
       "</style>\n",
       "<table border=\"1\" class=\"dataframe\">\n",
       "  <thead>\n",
       "    <tr style=\"text-align: right;\">\n",
       "      <th></th>\n",
       "      <th>project_name</th>\n",
       "      <th>artist</th>\n",
       "      <th>project_type</th>\n",
       "      <th>tracks</th>\n",
       "      <th>year</th>\n",
       "      <th>rating</th>\n",
       "    </tr>\n",
       "  </thead>\n",
       "  <tbody>\n",
       "    <tr>\n",
       "      <th>0</th>\n",
       "      <td>all day</td>\n",
       "      <td>girl talk</td>\n",
       "      <td>album</td>\n",
       "      <td>14.0</td>\n",
       "      <td>2008.0</td>\n",
       "      <td>8.0</td>\n",
       "    </tr>\n",
       "    <tr>\n",
       "      <th>1</th>\n",
       "      <td>my beautiful dark twisted fantasy</td>\n",
       "      <td>kanye west</td>\n",
       "      <td>album</td>\n",
       "      <td>13.0</td>\n",
       "      <td>2010.0</td>\n",
       "      <td>6.0</td>\n",
       "    </tr>\n",
       "    <tr>\n",
       "      <th>2</th>\n",
       "      <td>scary monsters and nice sprites</td>\n",
       "      <td>skrillex</td>\n",
       "      <td>ep</td>\n",
       "      <td>9.0</td>\n",
       "      <td>2010.0</td>\n",
       "      <td>7.0</td>\n",
       "    </tr>\n",
       "    <tr>\n",
       "      <th>3</th>\n",
       "      <td>broken bells</td>\n",
       "      <td>broken bells</td>\n",
       "      <td>ep</td>\n",
       "      <td>10.0</td>\n",
       "      <td>2010.0</td>\n",
       "      <td>5.0</td>\n",
       "    </tr>\n",
       "    <tr>\n",
       "      <th>4</th>\n",
       "      <td>bastard</td>\n",
       "      <td>tyler, the creator</td>\n",
       "      <td>album</td>\n",
       "      <td>12.0</td>\n",
       "      <td>2019.0</td>\n",
       "      <td>7.0</td>\n",
       "    </tr>\n",
       "  </tbody>\n",
       "</table>\n",
       "</div>"
      ],
      "text/plain": [
       "                        project_name              artist project_type  tracks  \\\n",
       "0                            all day           girl talk        album    14.0   \n",
       "1  my beautiful dark twisted fantasy          kanye west        album    13.0   \n",
       "2    scary monsters and nice sprites            skrillex           ep     9.0   \n",
       "3                       broken bells        broken bells           ep    10.0   \n",
       "4                            bastard  tyler, the creator        album    12.0   \n",
       "\n",
       "     year  rating  \n",
       "0  2008.0     8.0  \n",
       "1  2010.0     6.0  \n",
       "2  2010.0     7.0  \n",
       "3  2010.0     5.0  \n",
       "4  2019.0     7.0  "
      ]
     },
     "execution_count": 15,
     "metadata": {},
     "output_type": "execute_result"
    }
   ],
   "source": [
    "df.head() # check the dataset after removing the columns"
   ]
  },
  {
   "cell_type": "code",
   "execution_count": 16,
   "metadata": {
    "colab": {
     "base_uri": "https://localhost:8080/",
     "height": 206
    },
    "id": "WKwND1eguv-g",
    "outputId": "b42f1fbc-b62c-4e17-f874-d090eb007f1d"
   },
   "outputs": [
    {
     "data": {
      "text/html": [
       "<div>\n",
       "<style scoped>\n",
       "    .dataframe tbody tr th:only-of-type {\n",
       "        vertical-align: middle;\n",
       "    }\n",
       "\n",
       "    .dataframe tbody tr th {\n",
       "        vertical-align: top;\n",
       "    }\n",
       "\n",
       "    .dataframe thead th {\n",
       "        text-align: right;\n",
       "    }\n",
       "</style>\n",
       "<table border=\"1\" class=\"dataframe\">\n",
       "  <thead>\n",
       "    <tr style=\"text-align: right;\">\n",
       "      <th></th>\n",
       "      <th>project_name</th>\n",
       "      <th>artist</th>\n",
       "      <th>project_type</th>\n",
       "      <th>tracks</th>\n",
       "      <th>year</th>\n",
       "      <th>rating</th>\n",
       "    </tr>\n",
       "  </thead>\n",
       "  <tbody>\n",
       "    <tr>\n",
       "      <th>3019</th>\n",
       "      <td>hiss</td>\n",
       "      <td>wormrot</td>\n",
       "      <td>album</td>\n",
       "      <td>21.0</td>\n",
       "      <td>2022.0</td>\n",
       "      <td>8.0</td>\n",
       "    </tr>\n",
       "    <tr>\n",
       "      <th>3020</th>\n",
       "      <td>big time</td>\n",
       "      <td>angel olsen</td>\n",
       "      <td>album</td>\n",
       "      <td>10.0</td>\n",
       "      <td>2022.0</td>\n",
       "      <td>7.0</td>\n",
       "    </tr>\n",
       "    <tr>\n",
       "      <th>3021</th>\n",
       "      <td>aethiopes</td>\n",
       "      <td>billy woods</td>\n",
       "      <td>album</td>\n",
       "      <td>13.0</td>\n",
       "      <td>2022.0</td>\n",
       "      <td>8.0</td>\n",
       "    </tr>\n",
       "    <tr>\n",
       "      <th>3022</th>\n",
       "      <td>jodeki</td>\n",
       "      <td>tricot</td>\n",
       "      <td>album</td>\n",
       "      <td>12.0</td>\n",
       "      <td>2020.0</td>\n",
       "      <td>7.0</td>\n",
       "    </tr>\n",
       "    <tr>\n",
       "      <th>3023</th>\n",
       "      <td>motomami</td>\n",
       "      <td>rosalía</td>\n",
       "      <td>album</td>\n",
       "      <td>16.0</td>\n",
       "      <td>2022.0</td>\n",
       "      <td>7.0</td>\n",
       "    </tr>\n",
       "  </tbody>\n",
       "</table>\n",
       "</div>"
      ],
      "text/plain": [
       "     project_name       artist project_type  tracks    year  rating\n",
       "3019         hiss      wormrot        album    21.0  2022.0     8.0\n",
       "3020     big time  angel olsen        album    10.0  2022.0     7.0\n",
       "3021    aethiopes  billy woods        album    13.0  2022.0     8.0\n",
       "3022       jodeki       tricot        album    12.0  2020.0     7.0\n",
       "3023     motomami      rosalía        album    16.0  2022.0     7.0"
      ]
     },
     "execution_count": 16,
     "metadata": {},
     "output_type": "execute_result"
    }
   ],
   "source": [
    "df.tail() # the 5 last rows of dataset"
   ]
  },
  {
   "cell_type": "code",
   "execution_count": 17,
   "metadata": {
    "colab": {
     "base_uri": "https://localhost:8080/",
     "height": 206
    },
    "id": "SWn85-T1uzjE",
    "outputId": "83196191-7c0d-4bb3-aef7-db19379f3ccf"
   },
   "outputs": [
    {
     "data": {
      "text/html": [
       "<div>\n",
       "<style scoped>\n",
       "    .dataframe tbody tr th:only-of-type {\n",
       "        vertical-align: middle;\n",
       "    }\n",
       "\n",
       "    .dataframe tbody tr th {\n",
       "        vertical-align: top;\n",
       "    }\n",
       "\n",
       "    .dataframe thead th {\n",
       "        text-align: right;\n",
       "    }\n",
       "</style>\n",
       "<table border=\"1\" class=\"dataframe\">\n",
       "  <thead>\n",
       "    <tr style=\"text-align: right;\">\n",
       "      <th></th>\n",
       "      <th>project_name</th>\n",
       "      <th>artist</th>\n",
       "      <th>project_type</th>\n",
       "      <th>tracks</th>\n",
       "      <th>year</th>\n",
       "      <th>rating</th>\n",
       "    </tr>\n",
       "  </thead>\n",
       "  <tbody>\n",
       "    <tr>\n",
       "      <th>2306</th>\n",
       "      <td>no dream</td>\n",
       "      <td>jeff rosenstock</td>\n",
       "      <td>album</td>\n",
       "      <td>13.0</td>\n",
       "      <td>2020.0</td>\n",
       "      <td>8.0</td>\n",
       "    </tr>\n",
       "    <tr>\n",
       "      <th>2863</th>\n",
       "      <td>reset</td>\n",
       "      <td>panda bear &amp; sonic boom</td>\n",
       "      <td>album</td>\n",
       "      <td>9.0</td>\n",
       "      <td>2022.0</td>\n",
       "      <td>6.0</td>\n",
       "    </tr>\n",
       "    <tr>\n",
       "      <th>2111</th>\n",
       "      <td>hot pink</td>\n",
       "      <td>doja cat</td>\n",
       "      <td>album</td>\n",
       "      <td>12.0</td>\n",
       "      <td>2019.0</td>\n",
       "      <td>4.0</td>\n",
       "    </tr>\n",
       "    <tr>\n",
       "      <th>2569</th>\n",
       "      <td>vince staples</td>\n",
       "      <td>vince staples</td>\n",
       "      <td>album</td>\n",
       "      <td>10.0</td>\n",
       "      <td>2021.0</td>\n",
       "      <td>7.0</td>\n",
       "    </tr>\n",
       "    <tr>\n",
       "      <th>979</th>\n",
       "      <td>parasite brain</td>\n",
       "      <td>soupcans</td>\n",
       "      <td>ep</td>\n",
       "      <td>-1.0</td>\n",
       "      <td>-1.0</td>\n",
       "      <td>7.0</td>\n",
       "    </tr>\n",
       "  </tbody>\n",
       "</table>\n",
       "</div>"
      ],
      "text/plain": [
       "        project_name                   artist project_type  tracks    year  \\\n",
       "2306        no dream          jeff rosenstock        album    13.0  2020.0   \n",
       "2863           reset  panda bear & sonic boom        album     9.0  2022.0   \n",
       "2111        hot pink                 doja cat        album    12.0  2019.0   \n",
       "2569   vince staples            vince staples        album    10.0  2021.0   \n",
       "979   parasite brain                 soupcans           ep    -1.0    -1.0   \n",
       "\n",
       "      rating  \n",
       "2306     8.0  \n",
       "2863     6.0  \n",
       "2111     4.0  \n",
       "2569     7.0  \n",
       "979      7.0  "
      ]
     },
     "execution_count": 17,
     "metadata": {},
     "output_type": "execute_result"
    }
   ],
   "source": [
    "df.sample(5) # sample size of 5"
   ]
  },
  {
   "cell_type": "code",
   "execution_count": 18,
   "metadata": {
    "colab": {
     "base_uri": "https://localhost:8080/"
    },
    "id": "m1XyAbaLu184",
    "outputId": "855910f5-7ba3-458c-a788-ea426937f4ac"
   },
   "outputs": [
    {
     "name": "stdout",
     "output_type": "stream",
     "text": [
      "<class 'pandas.core.frame.DataFrame'>\n",
      "RangeIndex: 3024 entries, 0 to 3023\n",
      "Data columns (total 6 columns):\n",
      " #   Column        Non-Null Count  Dtype  \n",
      "---  ------        --------------  -----  \n",
      " 0   project_name  3024 non-null   object \n",
      " 1   artist        3024 non-null   object \n",
      " 2   project_type  3024 non-null   object \n",
      " 3   tracks        3024 non-null   float64\n",
      " 4   year          3024 non-null   float64\n",
      " 5   rating        3024 non-null   float64\n",
      "dtypes: float64(3), object(3)\n",
      "memory usage: 141.9+ KB\n"
     ]
    }
   ],
   "source": [
    "df.info()"
   ]
  },
  {
   "cell_type": "code",
   "execution_count": 19,
   "metadata": {
    "colab": {
     "base_uri": "https://localhost:8080/",
     "height": 143
    },
    "id": "4CZ6lmgru6o7",
    "outputId": "b996a8bb-e1c8-468a-bb5e-fb58d0f66d7d"
   },
   "outputs": [
    {
     "data": {
      "text/html": [
       "<div>\n",
       "<style scoped>\n",
       "    .dataframe tbody tr th:only-of-type {\n",
       "        vertical-align: middle;\n",
       "    }\n",
       "\n",
       "    .dataframe tbody tr th {\n",
       "        vertical-align: top;\n",
       "    }\n",
       "\n",
       "    .dataframe thead th {\n",
       "        text-align: right;\n",
       "    }\n",
       "</style>\n",
       "<table border=\"1\" class=\"dataframe\">\n",
       "  <thead>\n",
       "    <tr style=\"text-align: right;\">\n",
       "      <th></th>\n",
       "      <th>count</th>\n",
       "      <th>mean</th>\n",
       "      <th>std</th>\n",
       "      <th>min</th>\n",
       "      <th>25%</th>\n",
       "      <th>50%</th>\n",
       "      <th>75%</th>\n",
       "      <th>max</th>\n",
       "    </tr>\n",
       "  </thead>\n",
       "  <tbody>\n",
       "    <tr>\n",
       "      <th>tracks</th>\n",
       "      <td>3024.0</td>\n",
       "      <td>12.140212</td>\n",
       "      <td>5.393560</td>\n",
       "      <td>-1.0</td>\n",
       "      <td>10.0</td>\n",
       "      <td>12.0</td>\n",
       "      <td>14.0</td>\n",
       "      <td>102.0</td>\n",
       "    </tr>\n",
       "    <tr>\n",
       "      <th>year</th>\n",
       "      <td>3024.0</td>\n",
       "      <td>1997.798942</td>\n",
       "      <td>189.808720</td>\n",
       "      <td>-1.0</td>\n",
       "      <td>2012.0</td>\n",
       "      <td>2016.0</td>\n",
       "      <td>2020.0</td>\n",
       "      <td>2022.0</td>\n",
       "    </tr>\n",
       "    <tr>\n",
       "      <th>rating</th>\n",
       "      <td>3024.0</td>\n",
       "      <td>6.227844</td>\n",
       "      <td>1.699761</td>\n",
       "      <td>0.0</td>\n",
       "      <td>5.0</td>\n",
       "      <td>6.0</td>\n",
       "      <td>8.0</td>\n",
       "      <td>9.0</td>\n",
       "    </tr>\n",
       "  </tbody>\n",
       "</table>\n",
       "</div>"
      ],
      "text/plain": [
       "         count         mean         std  min     25%     50%     75%     max\n",
       "tracks  3024.0    12.140212    5.393560 -1.0    10.0    12.0    14.0   102.0\n",
       "year    3024.0  1997.798942  189.808720 -1.0  2012.0  2016.0  2020.0  2022.0\n",
       "rating  3024.0     6.227844    1.699761  0.0     5.0     6.0     8.0     9.0"
      ]
     },
     "execution_count": 19,
     "metadata": {},
     "output_type": "execute_result"
    }
   ],
   "source": [
    "df.describe().T"
   ]
  },
  {
   "cell_type": "code",
   "execution_count": 20,
   "metadata": {
    "id": "UyjaGKXlvPfJ"
   },
   "outputs": [],
   "source": [
    "# numeric & categorical data types\n",
    "numeric_cols = df.select_dtypes(include='number').columns\n",
    "cat_cols = df.select_dtypes(exclude='number').columns"
   ]
  },
  {
   "cell_type": "code",
   "execution_count": 21,
   "metadata": {
    "colab": {
     "base_uri": "https://localhost:8080/",
     "height": 435
    },
    "id": "G1XkFGUyG7xd",
    "outputId": "2dbe79cd-8e8f-4582-a99f-d975a18f6e92"
   },
   "outputs": [
    {
     "data": {
      "image/png": "[encoded data removed]",
      "text/plain": [
       "<Figure size 640x480 with 2 Axes>"
      ]
     },
     "metadata": {},
     "output_type": "display_data"
    }
   ],
   "source": [
    "# correlation analysis\n",
    "corr = df[numeric_cols].corr()\n",
    "sns.heatmap(corr , annot = True);"
   ]
  },
  {
   "cell_type": "markdown",
   "metadata": {
    "id": "yLHw-i2xKaDn"
   },
   "source": [
    "- the number of tracks in a album have a small correlation to the rating of the album\n"
   ]
  },
  {
   "cell_type": "code",
   "execution_count": 22,
   "metadata": {
    "colab": {
     "base_uri": "https://localhost:8080/"
    },
    "id": "vjd7i5IFJlxa",
    "outputId": "0c7b496d-540f-4756-9855-ba0a6f8f44eb"
   },
   "outputs": [
    {
     "data": {
      "text/plain": [
       "534"
      ]
     },
     "execution_count": 22,
     "metadata": {},
     "output_type": "execute_result"
    }
   ],
   "source": [
    "df.duplicated().sum() # number of duplicates in the dataset"
   ]
  },
  {
   "cell_type": "code",
   "execution_count": 23,
   "metadata": {
    "colab": {
     "base_uri": "https://localhost:8080/",
     "height": 456
    },
    "id": "b6lBLbpPNI_H",
    "outputId": "7ef31730-28a0-4ab9-fc16-3a4c579d3cb2"
   },
   "outputs": [
    {
     "name": "stdout",
     "output_type": "stream",
     "text": [
      "project_name    jodeki\n",
      "artist          tricot\n",
      "project_type     album\n",
      "tracks            12.0\n",
      "year            2020.0\n",
      "rating             7.0\n",
      "Name: 3022, dtype: object\n",
      "project_name       hiss\n",
      "artist          wormrot\n",
      "project_type      album\n",
      "tracks             21.0\n",
      "year             2022.0\n",
      "rating              8.0\n",
      "Name: 3019, dtype: object\n"
     ]
    },
    {
     "data": {
      "text/html": [
       "<div>\n",
       "<style scoped>\n",
       "    .dataframe tbody tr th:only-of-type {\n",
       "        vertical-align: middle;\n",
       "    }\n",
       "\n",
       "    .dataframe tbody tr th {\n",
       "        vertical-align: top;\n",
       "    }\n",
       "\n",
       "    .dataframe thead th {\n",
       "        text-align: right;\n",
       "    }\n",
       "</style>\n",
       "<table border=\"1\" class=\"dataframe\">\n",
       "  <thead>\n",
       "    <tr style=\"text-align: right;\">\n",
       "      <th></th>\n",
       "      <th>project_name</th>\n",
       "      <th>artist</th>\n",
       "      <th>project_type</th>\n",
       "      <th>tracks</th>\n",
       "      <th>year</th>\n",
       "      <th>rating</th>\n",
       "    </tr>\n",
       "  </thead>\n",
       "  <tbody>\n",
       "    <tr>\n",
       "      <th>2714</th>\n",
       "      <td>jodeki</td>\n",
       "      <td>tricot</td>\n",
       "      <td>album</td>\n",
       "      <td>12.0</td>\n",
       "      <td>2020.0</td>\n",
       "      <td>7.0</td>\n",
       "    </tr>\n",
       "    <tr>\n",
       "      <th>2805</th>\n",
       "      <td>jodeki</td>\n",
       "      <td>tricot</td>\n",
       "      <td>album</td>\n",
       "      <td>2.0</td>\n",
       "      <td>2018.0</td>\n",
       "      <td>7.0</td>\n",
       "    </tr>\n",
       "    <tr>\n",
       "      <th>2810</th>\n",
       "      <td>jodeki</td>\n",
       "      <td>tricot</td>\n",
       "      <td>album</td>\n",
       "      <td>2.0</td>\n",
       "      <td>2018.0</td>\n",
       "      <td>7.0</td>\n",
       "    </tr>\n",
       "    <tr>\n",
       "      <th>2936</th>\n",
       "      <td>jodeki</td>\n",
       "      <td>tricot</td>\n",
       "      <td>album</td>\n",
       "      <td>12.0</td>\n",
       "      <td>2020.0</td>\n",
       "      <td>7.0</td>\n",
       "    </tr>\n",
       "    <tr>\n",
       "      <th>3022</th>\n",
       "      <td>jodeki</td>\n",
       "      <td>tricot</td>\n",
       "      <td>album</td>\n",
       "      <td>12.0</td>\n",
       "      <td>2020.0</td>\n",
       "      <td>7.0</td>\n",
       "    </tr>\n",
       "  </tbody>\n",
       "</table>\n",
       "</div>"
      ],
      "text/plain": [
       "     project_name  artist project_type  tracks    year  rating\n",
       "2714       jodeki  tricot        album    12.0  2020.0     7.0\n",
       "2805       jodeki  tricot        album     2.0  2018.0     7.0\n",
       "2810       jodeki  tricot        album     2.0  2018.0     7.0\n",
       "2936       jodeki  tricot        album    12.0  2020.0     7.0\n",
       "3022       jodeki  tricot        album    12.0  2020.0     7.0"
      ]
     },
     "execution_count": 23,
     "metadata": {},
     "output_type": "execute_result"
    }
   ],
   "source": [
    "# understanding the duplicates\n",
    "print(df.iloc[3022])\n",
    "print(df.iloc[3019])\n",
    "df.loc[df['project_name'] == 'jodeki']"
   ]
  },
  {
   "cell_type": "code",
   "execution_count": 24,
   "metadata": {
    "id": "zZr0_JL9N2BL"
   },
   "outputs": [],
   "source": [
    "df = df.drop_duplicates() # remove duplicates from the dataset"
   ]
  },
  {
   "cell_type": "code",
   "execution_count": 25,
   "metadata": {
    "colab": {
     "base_uri": "https://localhost:8080/"
    },
    "id": "f2ravnBFOIsH",
    "outputId": "a9555fdc-b41f-4e86-cf34-25b34dc064c0"
   },
   "outputs": [
    {
     "name": "stdout",
     "output_type": "stream",
     "text": [
      "<class 'pandas.core.frame.DataFrame'>\n",
      "Index: 2490 entries, 0 to 3023\n",
      "Data columns (total 6 columns):\n",
      " #   Column        Non-Null Count  Dtype  \n",
      "---  ------        --------------  -----  \n",
      " 0   project_name  2490 non-null   object \n",
      " 1   artist        2490 non-null   object \n",
      " 2   project_type  2490 non-null   object \n",
      " 3   tracks        2490 non-null   float64\n",
      " 4   year          2490 non-null   float64\n",
      " 5   rating        2490 non-null   float64\n",
      "dtypes: float64(3), object(3)\n",
      "memory usage: 136.2+ KB\n"
     ]
    }
   ],
   "source": [
    "df.info()"
   ]
  },
  {
   "cell_type": "code",
   "execution_count": 33,
   "metadata": {
    "id": "_YLL-NLRJoM6"
   },
   "outputs": [],
   "source": [
    "# turn float64 into float16 for better memory usage\n",
    "df['rating']= df['rating'].astype('float32')\n",
    "df['year']= df['year'].astype('float32')\n",
    "df['tracks']= df['tracks'].astype('float32')"
   ]
  },
  {
   "cell_type": "code",
   "execution_count": 27,
   "metadata": {
    "colab": {
     "base_uri": "https://localhost:8080/"
    },
    "id": "yqkXiaMqKPhp",
    "outputId": "aa264bf1-2b50-49b6-e2e7-0e97dc93cf62"
   },
   "outputs": [
    {
     "name": "stdout",
     "output_type": "stream",
     "text": [
      "<class 'pandas.core.frame.DataFrame'>\n",
      "Index: 2490 entries, 0 to 3023\n",
      "Data columns (total 6 columns):\n",
      " #   Column        Non-Null Count  Dtype  \n",
      "---  ------        --------------  -----  \n",
      " 0   project_name  2490 non-null   object \n",
      " 1   artist        2490 non-null   object \n",
      " 2   project_type  2490 non-null   object \n",
      " 3   tracks        2490 non-null   float16\n",
      " 4   year          2490 non-null   float16\n",
      " 5   rating        2490 non-null   float16\n",
      "dtypes: float16(3), object(3)\n",
      "memory usage: 92.4+ KB\n"
     ]
    }
   ],
   "source": [
    "df.info()"
   ]
  },
  {
   "cell_type": "code",
   "execution_count": 28,
   "metadata": {
    "colab": {
     "base_uri": "https://localhost:8080/",
     "height": 272
    },
    "id": "f1VBZBapOP2q",
    "outputId": "511bf01a-9414-4297-f351-4b5e231e2a65"
   },
   "outputs": [
    {
     "data": {
      "text/plain": [
       "project_name    0\n",
       "artist          0\n",
       "project_type    0\n",
       "tracks          0\n",
       "year            0\n",
       "rating          0\n",
       "dtype: int64"
      ]
     },
     "execution_count": 28,
     "metadata": {},
     "output_type": "execute_result"
    }
   ],
   "source": [
    "# null values from each columns\n",
    "df.isnull().sum()"
   ]
  },
  {
   "cell_type": "code",
   "execution_count": 29,
   "metadata": {
    "colab": {
     "base_uri": "https://localhost:8080/",
     "height": 250
    },
    "id": "W-yFP-b_R7G2",
    "outputId": "d13b9c66-868e-474f-c09d-416b6aeb333a"
   },
   "outputs": [
    {
     "name": "stderr",
     "output_type": "stream",
     "text": [
      "/Users/pouniq/anaconda3/lib/python3.11/site-packages/pandas/core/nanops.py:1252: RuntimeWarning: overflow encountered in multiply\n",
      "  adjusted3 = adjusted2 * adjusted\n",
      "/Users/pouniq/anaconda3/lib/python3.11/site-packages/pandas/core/nanops.py:1251: RuntimeWarning: overflow encountered in square\n",
      "  adjusted2 = adjusted**2\n"
     ]
    },
    {
     "data": {
      "text/plain": [
       "tracks         inf\n",
       "year           NaN\n",
       "rating   -0.787598\n",
       "dtype: float16"
      ]
     },
     "execution_count": 29,
     "metadata": {},
     "output_type": "execute_result"
    }
   ],
   "source": [
    "df[numeric_cols].skew()"
   ]
  },
  {
   "cell_type": "code",
   "execution_count": 30,
   "metadata": {
    "colab": {
     "base_uri": "https://localhost:8080/"
    },
    "id": "IfnvKlcZIBQl",
    "outputId": "ff6b5667-9be3-4a37-c82b-397920add15f"
   },
   "outputs": [
    {
     "data": {
      "text/plain": [
       "Index(['project_name', 'artist', 'project_type', 'tracks', 'year', 'rating'], dtype='object')"
      ]
     },
     "execution_count": 30,
     "metadata": {},
     "output_type": "execute_result"
    }
   ],
   "source": [
    "df.columns"
   ]
  },
  {
   "cell_type": "code",
   "execution_count": 34,
   "metadata": {
    "colab": {
     "base_uri": "https://localhost:8080/",
     "height": 467
    },
    "id": "9trmPxXASPh5",
    "outputId": "093186da-b2e4-4706-c3d6-a2335d2f4757"
   },
   "outputs": [
    {
     "name": "stderr",
     "output_type": "stream",
     "text": [
      "/Users/pouniq/anaconda3/lib/python3.11/site-packages/seaborn/_oldcore.py:1119: FutureWarning: use_inf_as_na option is deprecated and will be removed in a future version. Convert inf values to NaN before operating instead.\n",
      "  with pd.option_context('mode.use_inf_as_na', True):\n"
     ]
    },
    {
     "data": {
      "text/plain": [
       "<Axes: xlabel='rating', ylabel='Count'>"
      ]
     },
     "execution_count": 34,
     "metadata": {},
     "output_type": "execute_result"
    },
    {
     "data": {
      "image/png": "[encoded data removed]",
      "text/plain": [
       "<Figure size 640x480 with 1 Axes>"
      ]
     },
     "metadata": {},
     "output_type": "display_data"
    }
   ],
   "source": [
    "# the skewness of the 'rating' columns\n",
    "sns.histplot(df['rating'])"
   ]
  },
  {
   "cell_type": "code",
   "execution_count": 36,
   "metadata": {
    "colab": {
     "base_uri": "https://localhost:8080/",
     "height": 467
    },
    "id": "oYvAPgULE2wA",
    "outputId": "43b9a669-2c5b-43da-d345-3ae6b013f485"
   },
   "outputs": [
    {
     "name": "stderr",
     "output_type": "stream",
     "text": [
      "/Users/pouniq/anaconda3/lib/python3.11/site-packages/seaborn/_oldcore.py:1119: FutureWarning: use_inf_as_na option is deprecated and will be removed in a future version. Convert inf values to NaN before operating instead.\n",
      "  with pd.option_context('mode.use_inf_as_na', True):\n"
     ]
    },
    {
     "data": {
      "image/png": "[encoded data removed]",
      "text/plain": [
       "<Figure size 640x480 with 1 Axes>"
      ]
     },
     "metadata": {},
     "output_type": "display_data"
    }
   ],
   "source": [
    "#the skewness of the 'tracks' column\n",
    "sns.histplot(df['tracks']);"
   ]
  },
  {
   "cell_type": "code",
   "execution_count": 37,
   "metadata": {
    "colab": {
     "base_uri": "https://localhost:8080/",
     "height": 269
    },
    "id": "UBWEfmPKIIRR",
    "outputId": "d868eaa6-7c8b-44c2-dc2e-a51ea5a58119"
   },
   "outputs": [
    {
     "data": {
      "text/html": [
       "<div>\n",
       "<style scoped>\n",
       "    .dataframe tbody tr th:only-of-type {\n",
       "        vertical-align: middle;\n",
       "    }\n",
       "\n",
       "    .dataframe tbody tr th {\n",
       "        vertical-align: top;\n",
       "    }\n",
       "\n",
       "    .dataframe thead th {\n",
       "        text-align: right;\n",
       "    }\n",
       "</style>\n",
       "<table border=\"1\" class=\"dataframe\">\n",
       "  <thead>\n",
       "    <tr style=\"text-align: right;\">\n",
       "      <th></th>\n",
       "      <th>project_name</th>\n",
       "      <th>artist</th>\n",
       "      <th>project_type</th>\n",
       "      <th>tracks</th>\n",
       "      <th>year</th>\n",
       "      <th>rating</th>\n",
       "    </tr>\n",
       "  </thead>\n",
       "  <tbody>\n",
       "    <tr>\n",
       "      <th>121</th>\n",
       "      <td>shit computer</td>\n",
       "      <td>kids &amp; explosions</td>\n",
       "      <td>album</td>\n",
       "      <td>102.0</td>\n",
       "      <td>2016.0</td>\n",
       "      <td>8.0</td>\n",
       "    </tr>\n",
       "    <tr>\n",
       "      <th>771</th>\n",
       "      <td>self-titled</td>\n",
       "      <td>quakers</td>\n",
       "      <td>album</td>\n",
       "      <td>41.0</td>\n",
       "      <td>2012.0</td>\n",
       "      <td>5.0</td>\n",
       "    </tr>\n",
       "    <tr>\n",
       "      <th>1301</th>\n",
       "      <td>third side of tape</td>\n",
       "      <td>lil ugly mane</td>\n",
       "      <td>album</td>\n",
       "      <td>50.0</td>\n",
       "      <td>2015.0</td>\n",
       "      <td>8.0</td>\n",
       "    </tr>\n",
       "    <tr>\n",
       "      <th>1838</th>\n",
       "      <td>50 song memoir</td>\n",
       "      <td>the magnetic fields</td>\n",
       "      <td>album</td>\n",
       "      <td>50.0</td>\n",
       "      <td>2017.0</td>\n",
       "      <td>7.0</td>\n",
       "    </tr>\n",
       "    <tr>\n",
       "      <th>1839</th>\n",
       "      <td>pharma</td>\n",
       "      <td>nmesh</td>\n",
       "      <td>album</td>\n",
       "      <td>42.0</td>\n",
       "      <td>2017.0</td>\n",
       "      <td>7.0</td>\n",
       "    </tr>\n",
       "    <tr>\n",
       "      <th>2408</th>\n",
       "      <td>the consuming flame: open exercises in group form</td>\n",
       "      <td>matmos</td>\n",
       "      <td>album</td>\n",
       "      <td>44.0</td>\n",
       "      <td>2020.0</td>\n",
       "      <td>8.0</td>\n",
       "    </tr>\n",
       "    <tr>\n",
       "      <th>2446</th>\n",
       "      <td>7g</td>\n",
       "      <td>a. g. cook</td>\n",
       "      <td>album</td>\n",
       "      <td>49.0</td>\n",
       "      <td>2020.0</td>\n",
       "      <td>6.0</td>\n",
       "    </tr>\n",
       "  </tbody>\n",
       "</table>\n",
       "</div>"
      ],
      "text/plain": [
       "                                           project_name               artist  \\\n",
       "121                                       shit computer    kids & explosions   \n",
       "771                                         self-titled              quakers   \n",
       "1301                                 third side of tape        lil ugly mane   \n",
       "1838                                     50 song memoir  the magnetic fields   \n",
       "1839                                             pharma                nmesh   \n",
       "2408  the consuming flame: open exercises in group form               matmos   \n",
       "2446                                                 7g           a. g. cook   \n",
       "\n",
       "     project_type  tracks    year  rating  \n",
       "121         album   102.0  2016.0     8.0  \n",
       "771         album    41.0  2012.0     5.0  \n",
       "1301        album    50.0  2015.0     8.0  \n",
       "1838        album    50.0  2017.0     7.0  \n",
       "1839        album    42.0  2017.0     7.0  \n",
       "2408        album    44.0  2020.0     8.0  \n",
       "2446        album    49.0  2020.0     6.0  "
      ]
     },
     "execution_count": 37,
     "metadata": {},
     "output_type": "execute_result"
    }
   ],
   "source": [
    "df.loc[df['tracks'] > 40]"
   ]
  },
  {
   "cell_type": "code",
   "execution_count": 38,
   "metadata": {
    "colab": {
     "base_uri": "https://localhost:8080/",
     "height": 1000
    },
    "id": "jt4LbCD5IN0Q",
    "outputId": "4d531b9a-d23b-4869-fec6-6b008159d8d5"
   },
   "outputs": [
    {
     "data": {
      "image/png": "[encoded data removed]",
      "text/plain": [
       "<Figure size 1000x500 with 1 Axes>"
      ]
     },
     "metadata": {},
     "output_type": "display_data"
    },
    {
     "data": {
      "image/png": "[encoded data removed]",
      "text/plain": [
       "<Figure size 1000x500 with 1 Axes>"
      ]
     },
     "metadata": {},
     "output_type": "display_data"
    },
    {
     "data": {
      "image/png": "[encoded data removed]",
      "text/plain": [
       "<Figure size 1000x500 with 1 Axes>"
      ]
     },
     "metadata": {},
     "output_type": "display_data"
    }
   ],
   "source": [
    "# handling outliers\n",
    "for column in numeric_cols:\n",
    "  plt.figure(figsize=(10,5))\n",
    "  df.boxplot([column])"
   ]
  },
  {
   "cell_type": "code",
   "execution_count": 39,
   "metadata": {
    "colab": {
     "base_uri": "https://localhost:8080/",
     "height": 206
    },
    "id": "zCPPHgZOImwO",
    "outputId": "b23361e7-808a-4997-9daa-c44558d8a505"
   },
   "outputs": [
    {
     "data": {
      "text/html": [
       "<div>\n",
       "<style scoped>\n",
       "    .dataframe tbody tr th:only-of-type {\n",
       "        vertical-align: middle;\n",
       "    }\n",
       "\n",
       "    .dataframe tbody tr th {\n",
       "        vertical-align: top;\n",
       "    }\n",
       "\n",
       "    .dataframe thead th {\n",
       "        text-align: right;\n",
       "    }\n",
       "</style>\n",
       "<table border=\"1\" class=\"dataframe\">\n",
       "  <thead>\n",
       "    <tr style=\"text-align: right;\">\n",
       "      <th></th>\n",
       "      <th>project_name</th>\n",
       "      <th>artist</th>\n",
       "      <th>project_type</th>\n",
       "      <th>tracks</th>\n",
       "      <th>year</th>\n",
       "      <th>rating</th>\n",
       "    </tr>\n",
       "  </thead>\n",
       "  <tbody>\n",
       "    <tr>\n",
       "      <th>1187</th>\n",
       "      <td>all love's legal</td>\n",
       "      <td>planningtorock</td>\n",
       "      <td>album</td>\n",
       "      <td>12.0</td>\n",
       "      <td>2013.0</td>\n",
       "      <td>0.0</td>\n",
       "    </tr>\n",
       "    <tr>\n",
       "      <th>2081</th>\n",
       "      <td>the big day</td>\n",
       "      <td>chance the rapper</td>\n",
       "      <td>album</td>\n",
       "      <td>22.0</td>\n",
       "      <td>2019.0</td>\n",
       "      <td>0.0</td>\n",
       "    </tr>\n",
       "    <tr>\n",
       "      <th>2279</th>\n",
       "      <td>father of all...</td>\n",
       "      <td>green day</td>\n",
       "      <td>album</td>\n",
       "      <td>10.0</td>\n",
       "      <td>2020.0</td>\n",
       "      <td>0.0</td>\n",
       "    </tr>\n",
       "    <tr>\n",
       "      <th>2486</th>\n",
       "      <td>welcome to the madhouse</td>\n",
       "      <td>tones and i</td>\n",
       "      <td>album</td>\n",
       "      <td>20.0</td>\n",
       "      <td>2021.0</td>\n",
       "      <td>0.0</td>\n",
       "    </tr>\n",
       "    <tr>\n",
       "      <th>2688</th>\n",
       "      <td>x</td>\n",
       "      <td>ken carson</td>\n",
       "      <td>album</td>\n",
       "      <td>20.0</td>\n",
       "      <td>2022.0</td>\n",
       "      <td>0.0</td>\n",
       "    </tr>\n",
       "  </tbody>\n",
       "</table>\n",
       "</div>"
      ],
      "text/plain": [
       "                 project_name             artist project_type  tracks    year  \\\n",
       "1187         all love's legal     planningtorock        album    12.0  2013.0   \n",
       "2081              the big day  chance the rapper        album    22.0  2019.0   \n",
       "2279         father of all...          green day        album    10.0  2020.0   \n",
       "2486  welcome to the madhouse        tones and i        album    20.0  2021.0   \n",
       "2688                        x         ken carson        album    20.0  2022.0   \n",
       "\n",
       "      rating  \n",
       "1187     0.0  \n",
       "2081     0.0  \n",
       "2279     0.0  \n",
       "2486     0.0  \n",
       "2688     0.0  "
      ]
     },
     "execution_count": 39,
     "metadata": {},
     "output_type": "execute_result"
    }
   ],
   "source": [
    "# when the rate of the album is zero\n",
    "df.loc[df['rating'] == 0]"
   ]
  },
  {
   "cell_type": "code",
   "execution_count": 40,
   "metadata": {
    "id": "I9VjhQq4OIXG"
   },
   "outputs": [],
   "source": [
    "# something is off here we have year and tracks that are -1\n",
    "YOut = df.loc[df['year'] < 5]\n",
    "# make a copy of the dataset\n",
    "YOut = YOut.copy()"
   ]
  },
  {
   "cell_type": "code",
   "execution_count": 41,
   "metadata": {
    "id": "PFSy5MFfZYWQ"
   },
   "outputs": [],
   "source": [
    "# list of the values we need\n",
    "year_list = [2010, 2016, 2017, 2011, 2015, 2013, 2022, 2013, 2017, 2014, 2015, 2016, 2016, 2018, 2021, 2021, 2021, 2021, 2021, 2021, 2021, 2021, 2021]\n",
    "tracks_list = [1, 10, 1, 15, 10, 12, 12, 14, 6, 14, 10, 8, 14, 3, 9, 11, 'Various', 10, 7, 14, 10, 10, 14]"
   ]
  },
  {
   "cell_type": "code",
   "execution_count": 42,
   "metadata": {
    "colab": {
     "base_uri": "https://localhost:8080/",
     "height": 771
    },
    "id": "yQkGtVk3Lp7K",
    "outputId": "bb5b0877-aea2-4405-b46f-525a545bfa19"
   },
   "outputs": [
    {
     "data": {
      "text/html": [
       "<div>\n",
       "<style scoped>\n",
       "    .dataframe tbody tr th:only-of-type {\n",
       "        vertical-align: middle;\n",
       "    }\n",
       "\n",
       "    .dataframe tbody tr th {\n",
       "        vertical-align: top;\n",
       "    }\n",
       "\n",
       "    .dataframe thead th {\n",
       "        text-align: right;\n",
       "    }\n",
       "</style>\n",
       "<table border=\"1\" class=\"dataframe\">\n",
       "  <thead>\n",
       "    <tr style=\"text-align: right;\">\n",
       "      <th></th>\n",
       "      <th>project_name</th>\n",
       "      <th>artist</th>\n",
       "      <th>project_type</th>\n",
       "      <th>tracks</th>\n",
       "      <th>year</th>\n",
       "      <th>rating</th>\n",
       "    </tr>\n",
       "  </thead>\n",
       "  <tbody>\n",
       "    <tr>\n",
       "      <th>68</th>\n",
       "      <td>usa boys</td>\n",
       "      <td>health</td>\n",
       "      <td>album</td>\n",
       "      <td>-1.0</td>\n",
       "      <td>-1.0</td>\n",
       "      <td>8.0</td>\n",
       "    </tr>\n",
       "    <tr>\n",
       "      <th>139</th>\n",
       "      <td>you and i</td>\n",
       "      <td>washed out</td>\n",
       "      <td>track</td>\n",
       "      <td>-1.0</td>\n",
       "      <td>-1.0</td>\n",
       "      <td>9.0</td>\n",
       "    </tr>\n",
       "    <tr>\n",
       "      <th>179</th>\n",
       "      <td>where i'm going</td>\n",
       "      <td>cut copy</td>\n",
       "      <td>track</td>\n",
       "      <td>-1.0</td>\n",
       "      <td>-1.0</td>\n",
       "      <td>6.0</td>\n",
       "    </tr>\n",
       "    <tr>\n",
       "      <th>579</th>\n",
       "      <td>brand new wayo compilation</td>\n",
       "      <td>various artists</td>\n",
       "      <td>album</td>\n",
       "      <td>-1.0</td>\n",
       "      <td>-1.0</td>\n",
       "      <td>7.0</td>\n",
       "    </tr>\n",
       "    <tr>\n",
       "      <th>816</th>\n",
       "      <td>in the middle of infinity</td>\n",
       "      <td>3:33</td>\n",
       "      <td>album</td>\n",
       "      <td>-1.0</td>\n",
       "      <td>-1.0</td>\n",
       "      <td>2.0</td>\n",
       "    </tr>\n",
       "    <tr>\n",
       "      <th>900</th>\n",
       "      <td>kismet</td>\n",
       "      <td>mr. muthafuckin' exquire</td>\n",
       "      <td>mixtape</td>\n",
       "      <td>-1.0</td>\n",
       "      <td>-1.0</td>\n",
       "      <td>7.0</td>\n",
       "    </tr>\n",
       "    <tr>\n",
       "      <th>979</th>\n",
       "      <td>parasite brain</td>\n",
       "      <td>soupcans</td>\n",
       "      <td>ep</td>\n",
       "      <td>-1.0</td>\n",
       "      <td>-1.0</td>\n",
       "      <td>7.0</td>\n",
       "    </tr>\n",
       "    <tr>\n",
       "      <th>988</th>\n",
       "      <td>nostalgic 64</td>\n",
       "      <td>denzel curry</td>\n",
       "      <td>album</td>\n",
       "      <td>-1.0</td>\n",
       "      <td>-1.0</td>\n",
       "      <td>7.0</td>\n",
       "    </tr>\n",
       "    <tr>\n",
       "      <th>1206</th>\n",
       "      <td>biggie apple ep /</td>\n",
       "      <td>pearls negras</td>\n",
       "      <td>mixtape</td>\n",
       "      <td>-1.0</td>\n",
       "      <td>-1.0</td>\n",
       "      <td>8.0</td>\n",
       "    </tr>\n",
       "    <tr>\n",
       "      <th>1209</th>\n",
       "      <td>self-titled</td>\n",
       "      <td>i am your destruction</td>\n",
       "      <td>album</td>\n",
       "      <td>-1.0</td>\n",
       "      <td>-1.0</td>\n",
       "      <td>7.0</td>\n",
       "    </tr>\n",
       "    <tr>\n",
       "      <th>1434</th>\n",
       "      <td>divers</td>\n",
       "      <td>joanna newsom</td>\n",
       "      <td>album</td>\n",
       "      <td>-1.0</td>\n",
       "      <td>-1.0</td>\n",
       "      <td>8.0</td>\n",
       "    </tr>\n",
       "    <tr>\n",
       "      <th>1595</th>\n",
       "      <td>one day you will ache like i ache</td>\n",
       "      <td>the body and full of hell</td>\n",
       "      <td>album</td>\n",
       "      <td>-1.0</td>\n",
       "      <td>-1.0</td>\n",
       "      <td>7.0</td>\n",
       "    </tr>\n",
       "    <tr>\n",
       "      <th>1667</th>\n",
       "      <td>self-titled</td>\n",
       "      <td>case / lang / veirs</td>\n",
       "      <td>album</td>\n",
       "      <td>-1.0</td>\n",
       "      <td>-1.0</td>\n",
       "      <td>7.0</td>\n",
       "    </tr>\n",
       "    <tr>\n",
       "      <th>2058</th>\n",
       "      <td>american dollar bill</td>\n",
       "      <td>keiji haino + sumac</td>\n",
       "      <td>album</td>\n",
       "      <td>-1.0</td>\n",
       "      <td>-1.0</td>\n",
       "      <td>7.0</td>\n",
       "    </tr>\n",
       "    <tr>\n",
       "      <th>2558</th>\n",
       "      <td>promises</td>\n",
       "      <td>floating points, pharoah sanders &amp; the lso</td>\n",
       "      <td>album</td>\n",
       "      <td>-1.0</td>\n",
       "      <td>-1.0</td>\n",
       "      <td>9.0</td>\n",
       "    </tr>\n",
       "    <tr>\n",
       "      <th>2583</th>\n",
       "      <td>faith in persona</td>\n",
       "      <td>death's dynamic shroud.wmv</td>\n",
       "      <td>album</td>\n",
       "      <td>-1.0</td>\n",
       "      <td>-1.0</td>\n",
       "      <td>8.0</td>\n",
       "    </tr>\n",
       "    <tr>\n",
       "      <th>2601</th>\n",
       "      <td>kick ii-iiiii album(s)</td>\n",
       "      <td>arca</td>\n",
       "      <td>album</td>\n",
       "      <td>-1.0</td>\n",
       "      <td>-1.0</td>\n",
       "      <td>7.0</td>\n",
       "    </tr>\n",
       "    <tr>\n",
       "      <th>2614</th>\n",
       "      <td>deep states</td>\n",
       "      <td>tropical frick storm</td>\n",
       "      <td>album</td>\n",
       "      <td>-1.0</td>\n",
       "      <td>-1.0</td>\n",
       "      <td>6.0</td>\n",
       "    </tr>\n",
       "    <tr>\n",
       "      <th>2634</th>\n",
       "      <td>imperative imperceptible impulse</td>\n",
       "      <td>ad nauseam</td>\n",
       "      <td>album</td>\n",
       "      <td>-1.0</td>\n",
       "      <td>-1.0</td>\n",
       "      <td>8.0</td>\n",
       "    </tr>\n",
       "    <tr>\n",
       "      <th>2652</th>\n",
       "      <td>garbology</td>\n",
       "      <td>aesop rock x blockhead</td>\n",
       "      <td>album</td>\n",
       "      <td>-1.0</td>\n",
       "      <td>-1.0</td>\n",
       "      <td>7.0</td>\n",
       "    </tr>\n",
       "    <tr>\n",
       "      <th>2654</th>\n",
       "      <td>house of lull . house of when</td>\n",
       "      <td>alexis marshall</td>\n",
       "      <td>album</td>\n",
       "      <td>-1.0</td>\n",
       "      <td>-1.0</td>\n",
       "      <td>7.0</td>\n",
       "    </tr>\n",
       "    <tr>\n",
       "      <th>2662</th>\n",
       "      <td>unlocked 1.5</td>\n",
       "      <td>denzel curry x kenny beats</td>\n",
       "      <td>album</td>\n",
       "      <td>-1.0</td>\n",
       "      <td>-1.0</td>\n",
       "      <td>6.0</td>\n",
       "    </tr>\n",
       "    <tr>\n",
       "      <th>2664</th>\n",
       "      <td>un canto por méxico vol. 2</td>\n",
       "      <td>natalia lafourcade</td>\n",
       "      <td>album</td>\n",
       "      <td>-1.0</td>\n",
       "      <td>-1.0</td>\n",
       "      <td>6.0</td>\n",
       "    </tr>\n",
       "  </tbody>\n",
       "</table>\n",
       "</div>"
      ],
      "text/plain": [
       "                           project_name  \\\n",
       "68                             usa boys   \n",
       "139                           you and i   \n",
       "179                     where i'm going   \n",
       "579          brand new wayo compilation   \n",
       "816           in the middle of infinity   \n",
       "900                              kismet   \n",
       "979                      parasite brain   \n",
       "988                        nostalgic 64   \n",
       "1206                  biggie apple ep /   \n",
       "1209                        self-titled   \n",
       "1434                             divers   \n",
       "1595  one day you will ache like i ache   \n",
       "1667                        self-titled   \n",
       "2058               american dollar bill   \n",
       "2558                           promises   \n",
       "2583                   faith in persona   \n",
       "2601             kick ii-iiiii album(s)   \n",
       "2614                        deep states   \n",
       "2634   imperative imperceptible impulse   \n",
       "2652                          garbology   \n",
       "2654      house of lull . house of when   \n",
       "2662                       unlocked 1.5   \n",
       "2664         un canto por méxico vol. 2   \n",
       "\n",
       "                                          artist project_type  tracks  year  \\\n",
       "68                                        health        album    -1.0  -1.0   \n",
       "139                                   washed out        track    -1.0  -1.0   \n",
       "179                                     cut copy        track    -1.0  -1.0   \n",
       "579                              various artists        album    -1.0  -1.0   \n",
       "816                                         3:33        album    -1.0  -1.0   \n",
       "900                     mr. muthafuckin' exquire      mixtape    -1.0  -1.0   \n",
       "979                                     soupcans           ep    -1.0  -1.0   \n",
       "988                                 denzel curry        album    -1.0  -1.0   \n",
       "1206                               pearls negras      mixtape    -1.0  -1.0   \n",
       "1209                       i am your destruction        album    -1.0  -1.0   \n",
       "1434                               joanna newsom        album    -1.0  -1.0   \n",
       "1595                   the body and full of hell        album    -1.0  -1.0   \n",
       "1667                         case / lang / veirs        album    -1.0  -1.0   \n",
       "2058                         keiji haino + sumac        album    -1.0  -1.0   \n",
       "2558  floating points, pharoah sanders & the lso        album    -1.0  -1.0   \n",
       "2583                  death's dynamic shroud.wmv        album    -1.0  -1.0   \n",
       "2601                                        arca        album    -1.0  -1.0   \n",
       "2614                        tropical frick storm        album    -1.0  -1.0   \n",
       "2634                                  ad nauseam        album    -1.0  -1.0   \n",
       "2652                      aesop rock x blockhead        album    -1.0  -1.0   \n",
       "2654                             alexis marshall        album    -1.0  -1.0   \n",
       "2662                  denzel curry x kenny beats        album    -1.0  -1.0   \n",
       "2664                          natalia lafourcade        album    -1.0  -1.0   \n",
       "\n",
       "      rating  \n",
       "68       8.0  \n",
       "139      9.0  \n",
       "179      6.0  \n",
       "579      7.0  \n",
       "816      2.0  \n",
       "900      7.0  \n",
       "979      7.0  \n",
       "988      7.0  \n",
       "1206     8.0  \n",
       "1209     7.0  \n",
       "1434     8.0  \n",
       "1595     7.0  \n",
       "1667     7.0  \n",
       "2058     7.0  \n",
       "2558     9.0  \n",
       "2583     8.0  \n",
       "2601     7.0  \n",
       "2614     6.0  \n",
       "2634     8.0  \n",
       "2652     7.0  \n",
       "2654     7.0  \n",
       "2662     6.0  \n",
       "2664     6.0  "
      ]
     },
     "execution_count": 42,
     "metadata": {},
     "output_type": "execute_result"
    }
   ],
   "source": [
    "YOut"
   ]
  },
  {
   "cell_type": "code",
   "execution_count": 43,
   "metadata": {
    "id": "sh-HSRsvZ0E-"
   },
   "outputs": [],
   "source": [
    "# putting the values into the copied dataset\n",
    "YOut.loc[:, 'year'] = year_list\n",
    "YOut.loc[:, 'tracks'] = tracks_list\n",
    "df.update(YOut)\n",
    "df = df.drop(2601) # this album is weird have multiple albums in one album so we dont consider that"
   ]
  },
  {
   "cell_type": "code",
   "execution_count": 44,
   "metadata": {
    "colab": {
     "base_uri": "https://localhost:8080/"
    },
    "id": "M7JBEOAIh61C",
    "outputId": "80931705-debe-4f77-eb9d-6a521650c894"
   },
   "outputs": [
    {
     "name": "stdout",
     "output_type": "stream",
     "text": [
      "<class 'pandas.core.frame.DataFrame'>\n",
      "Index: 2489 entries, 0 to 3023\n",
      "Data columns (total 6 columns):\n",
      " #   Column        Non-Null Count  Dtype  \n",
      "---  ------        --------------  -----  \n",
      " 0   project_name  2489 non-null   object \n",
      " 1   artist        2489 non-null   object \n",
      " 2   project_type  2489 non-null   object \n",
      " 3   tracks        2489 non-null   object \n",
      " 4   year          2489 non-null   float32\n",
      " 5   rating        2489 non-null   float32\n",
      "dtypes: float32(2), object(4)\n",
      "memory usage: 116.7+ KB\n"
     ]
    }
   ],
   "source": [
    "df.info()"
   ]
  },
  {
   "cell_type": "code",
   "execution_count": 45,
   "metadata": {
    "colab": {
     "base_uri": "https://localhost:8080/"
    },
    "id": "AiRpcaWyMrN0",
    "outputId": "db7cae82-68bd-4b03-d2b6-e4931ac91368"
   },
   "outputs": [
    {
     "name": "stdout",
     "output_type": "stream",
     "text": [
      "<class 'pandas.core.frame.DataFrame'>\n",
      "Index: 2489 entries, 0 to 3023\n",
      "Data columns (total 6 columns):\n",
      " #   Column        Non-Null Count  Dtype  \n",
      "---  ------        --------------  -----  \n",
      " 0   project_name  2489 non-null   object \n",
      " 1   artist        2489 non-null   object \n",
      " 2   project_type  2489 non-null   object \n",
      " 3   tracks        2489 non-null   object \n",
      " 4   year          2489 non-null   float32\n",
      " 5   rating        2489 non-null   float32\n",
      "dtypes: float32(2), object(4)\n",
      "memory usage: 116.7+ KB\n"
     ]
    }
   ],
   "source": [
    "df.info()"
   ]
  },
  {
   "cell_type": "code",
   "execution_count": 46,
   "metadata": {
    "colab": {
     "base_uri": "https://localhost:8080/",
     "height": 53
    },
    "id": "QwE7coLjNP6A",
    "outputId": "4dcceb67-7b13-4a19-85a1-bfa8746a9e7d"
   },
   "outputs": [
    {
     "data": {
      "text/html": [
       "<div>\n",
       "<style scoped>\n",
       "    .dataframe tbody tr th:only-of-type {\n",
       "        vertical-align: middle;\n",
       "    }\n",
       "\n",
       "    .dataframe tbody tr th {\n",
       "        vertical-align: top;\n",
       "    }\n",
       "\n",
       "    .dataframe thead th {\n",
       "        text-align: right;\n",
       "    }\n",
       "</style>\n",
       "<table border=\"1\" class=\"dataframe\">\n",
       "  <thead>\n",
       "    <tr style=\"text-align: right;\">\n",
       "      <th></th>\n",
       "      <th>project_name</th>\n",
       "      <th>artist</th>\n",
       "      <th>project_type</th>\n",
       "      <th>tracks</th>\n",
       "      <th>year</th>\n",
       "      <th>rating</th>\n",
       "    </tr>\n",
       "  </thead>\n",
       "  <tbody>\n",
       "  </tbody>\n",
       "</table>\n",
       "</div>"
      ],
      "text/plain": [
       "Empty DataFrame\n",
       "Columns: [project_name, artist, project_type, tracks, year, rating]\n",
       "Index: []"
      ]
     },
     "execution_count": 46,
     "metadata": {},
     "output_type": "execute_result"
    }
   ],
   "source": [
    "df.loc[df['tracks'] == 'Various']"
   ]
  },
  {
   "cell_type": "code",
   "execution_count": 47,
   "metadata": {
    "id": "BJC4CRWLNaee"
   },
   "outputs": [],
   "source": [
    "df['tracks'] = df['tracks'].astype('float16')"
   ]
  },
  {
   "cell_type": "code",
   "execution_count": 48,
   "metadata": {
    "colab": {
     "base_uri": "https://localhost:8080/"
    },
    "id": "LFP9UCl0N_R-",
    "outputId": "f5fe3cb3-5249-4252-90b3-efd0c2102430"
   },
   "outputs": [
    {
     "name": "stdout",
     "output_type": "stream",
     "text": [
      "<class 'pandas.core.frame.DataFrame'>\n",
      "Index: 2489 entries, 0 to 3023\n",
      "Data columns (total 6 columns):\n",
      " #   Column        Non-Null Count  Dtype  \n",
      "---  ------        --------------  -----  \n",
      " 0   project_name  2489 non-null   object \n",
      " 1   artist        2489 non-null   object \n",
      " 2   project_type  2489 non-null   object \n",
      " 3   tracks        2489 non-null   float16\n",
      " 4   year          2489 non-null   float32\n",
      " 5   rating        2489 non-null   float32\n",
      "dtypes: float16(1), float32(2), object(3)\n",
      "memory usage: 102.1+ KB\n"
     ]
    }
   ],
   "source": [
    "df.info()"
   ]
  },
  {
   "cell_type": "code",
   "execution_count": 49,
   "metadata": {
    "colab": {
     "base_uri": "https://localhost:8080/",
     "height": 598
    },
    "id": "DCBt2Ab0OEET",
    "outputId": "f93e03a3-4c3c-454e-9c0e-41c2b01f8aeb"
   },
   "outputs": [
    {
     "data": {
      "text/plain": [
       "<Axes: >"
      ]
     },
     "execution_count": 49,
     "metadata": {},
     "output_type": "execute_result"
    },
    {
     "data": {
      "image/png": "[encoded data removed]",
      "text/plain": [
       "<Figure size 700x700 with 1 Axes>"
      ]
     },
     "metadata": {},
     "output_type": "display_data"
    }
   ],
   "source": [
    "plt.figure(figsize=(7,7))\n",
    "sns.boxplot(df['tracks'])"
   ]
  },
  {
   "cell_type": "code",
   "execution_count": 50,
   "metadata": {
    "id": "J8Xrwx68Oup0"
   },
   "outputs": [],
   "source": [
    "df = df.drop(121)"
   ]
  },
  {
   "cell_type": "code",
   "execution_count": 51,
   "metadata": {
    "colab": {
     "base_uri": "https://localhost:8080/",
     "height": 424
    },
    "id": "a3cdi4kWPFQ0",
    "outputId": "10ab95f3-2913-47cc-8034-ffde12b64598"
   },
   "outputs": [
    {
     "data": {
      "text/html": [
       "<div>\n",
       "<style scoped>\n",
       "    .dataframe tbody tr th:only-of-type {\n",
       "        vertical-align: middle;\n",
       "    }\n",
       "\n",
       "    .dataframe tbody tr th {\n",
       "        vertical-align: top;\n",
       "    }\n",
       "\n",
       "    .dataframe thead th {\n",
       "        text-align: right;\n",
       "    }\n",
       "</style>\n",
       "<table border=\"1\" class=\"dataframe\">\n",
       "  <thead>\n",
       "    <tr style=\"text-align: right;\">\n",
       "      <th></th>\n",
       "      <th>project_name</th>\n",
       "      <th>artist</th>\n",
       "      <th>project_type</th>\n",
       "      <th>tracks</th>\n",
       "      <th>year</th>\n",
       "      <th>rating</th>\n",
       "    </tr>\n",
       "  </thead>\n",
       "  <tbody>\n",
       "    <tr>\n",
       "      <th>0</th>\n",
       "      <td>all day</td>\n",
       "      <td>girl talk</td>\n",
       "      <td>album</td>\n",
       "      <td>14.0</td>\n",
       "      <td>2008.0</td>\n",
       "      <td>8.0</td>\n",
       "    </tr>\n",
       "    <tr>\n",
       "      <th>1</th>\n",
       "      <td>my beautiful dark twisted fantasy</td>\n",
       "      <td>kanye west</td>\n",
       "      <td>album</td>\n",
       "      <td>13.0</td>\n",
       "      <td>2010.0</td>\n",
       "      <td>6.0</td>\n",
       "    </tr>\n",
       "    <tr>\n",
       "      <th>2</th>\n",
       "      <td>scary monsters and nice sprites</td>\n",
       "      <td>skrillex</td>\n",
       "      <td>ep</td>\n",
       "      <td>9.0</td>\n",
       "      <td>2010.0</td>\n",
       "      <td>7.0</td>\n",
       "    </tr>\n",
       "    <tr>\n",
       "      <th>3</th>\n",
       "      <td>broken bells</td>\n",
       "      <td>broken bells</td>\n",
       "      <td>ep</td>\n",
       "      <td>10.0</td>\n",
       "      <td>2010.0</td>\n",
       "      <td>5.0</td>\n",
       "    </tr>\n",
       "    <tr>\n",
       "      <th>4</th>\n",
       "      <td>bastard</td>\n",
       "      <td>tyler, the creator</td>\n",
       "      <td>album</td>\n",
       "      <td>12.0</td>\n",
       "      <td>2019.0</td>\n",
       "      <td>7.0</td>\n",
       "    </tr>\n",
       "    <tr>\n",
       "      <th>...</th>\n",
       "      <td>...</td>\n",
       "      <td>...</td>\n",
       "      <td>...</td>\n",
       "      <td>...</td>\n",
       "      <td>...</td>\n",
       "      <td>...</td>\n",
       "    </tr>\n",
       "    <tr>\n",
       "      <th>2890</th>\n",
       "      <td>aethiopes</td>\n",
       "      <td>billy woods</td>\n",
       "      <td>album</td>\n",
       "      <td>13.0</td>\n",
       "      <td>2022.0</td>\n",
       "      <td>8.0</td>\n",
       "    </tr>\n",
       "    <tr>\n",
       "      <th>2891</th>\n",
       "      <td>you belong there</td>\n",
       "      <td>daniel rossen</td>\n",
       "      <td>album</td>\n",
       "      <td>10.0</td>\n",
       "      <td>2022.0</td>\n",
       "      <td>8.0</td>\n",
       "    </tr>\n",
       "    <tr>\n",
       "      <th>2892</th>\n",
       "      <td>peace \"fly\" god</td>\n",
       "      <td>westside gunn</td>\n",
       "      <td>mixtape</td>\n",
       "      <td>10.0</td>\n",
       "      <td>2022.0</td>\n",
       "      <td>5.0</td>\n",
       "    </tr>\n",
       "    <tr>\n",
       "      <th>2893</th>\n",
       "      <td>god's country</td>\n",
       "      <td>chat pile</td>\n",
       "      <td>album</td>\n",
       "      <td>9.0</td>\n",
       "      <td>2022.0</td>\n",
       "      <td>8.0</td>\n",
       "    </tr>\n",
       "    <tr>\n",
       "      <th>3023</th>\n",
       "      <td>motomami</td>\n",
       "      <td>rosalía</td>\n",
       "      <td>album</td>\n",
       "      <td>16.0</td>\n",
       "      <td>2022.0</td>\n",
       "      <td>7.0</td>\n",
       "    </tr>\n",
       "  </tbody>\n",
       "</table>\n",
       "<p>2488 rows × 6 columns</p>\n",
       "</div>"
      ],
      "text/plain": [
       "                           project_name              artist project_type  \\\n",
       "0                               all day           girl talk        album   \n",
       "1     my beautiful dark twisted fantasy          kanye west        album   \n",
       "2       scary monsters and nice sprites            skrillex           ep   \n",
       "3                          broken bells        broken bells           ep   \n",
       "4                               bastard  tyler, the creator        album   \n",
       "...                                 ...                 ...          ...   \n",
       "2890                          aethiopes         billy woods        album   \n",
       "2891                   you belong there       daniel rossen        album   \n",
       "2892                    peace \"fly\" god       westside gunn      mixtape   \n",
       "2893                      god's country           chat pile        album   \n",
       "3023                           motomami             rosalía        album   \n",
       "\n",
       "      tracks    year  rating  \n",
       "0       14.0  2008.0     8.0  \n",
       "1       13.0  2010.0     6.0  \n",
       "2        9.0  2010.0     7.0  \n",
       "3       10.0  2010.0     5.0  \n",
       "4       12.0  2019.0     7.0  \n",
       "...      ...     ...     ...  \n",
       "2890    13.0  2022.0     8.0  \n",
       "2891    10.0  2022.0     8.0  \n",
       "2892    10.0  2022.0     5.0  \n",
       "2893     9.0  2022.0     8.0  \n",
       "3023    16.0  2022.0     7.0  \n",
       "\n",
       "[2488 rows x 6 columns]"
      ]
     },
     "execution_count": 51,
     "metadata": {},
     "output_type": "execute_result"
    }
   ],
   "source": [
    "df"
   ]
  },
  {
   "cell_type": "code",
   "execution_count": 53,
   "metadata": {
    "id": "YsT937OhPF6v"
   },
   "outputs": [],
   "source": [
    "# reset the index column\n",
    "df.reset_index(inplace=True)\n",
    "df = df.drop([ 'index'] , axis = 1)"
   ]
  },
  {
   "cell_type": "code",
   "execution_count": 54,
   "metadata": {
    "colab": {
     "base_uri": "https://localhost:8080/"
    },
    "id": "6k4KLwbRQ9lN",
    "outputId": "1ffc6d55-8cc6-48e0-8e0a-2cd201f14257"
   },
   "outputs": [
    {
     "data": {
      "text/plain": [
       "array(['album', 'ep', 'track', 'mixtape', 'redux'], dtype=object)"
      ]
     },
     "execution_count": 54,
     "metadata": {},
     "output_type": "execute_result"
    }
   ],
   "source": [
    "df['project_type'].unique() # identify the types of project"
   ]
  },
  {
   "cell_type": "code",
   "execution_count": 55,
   "metadata": {
    "colab": {
     "base_uri": "https://localhost:8080/",
     "height": 424
    },
    "id": "APW6t5NZQC5m",
    "outputId": "8c127aaa-f3f5-4618-d3f6-858aa97712ae"
   },
   "outputs": [
    {
     "data": {
      "text/html": [
       "<div>\n",
       "<style scoped>\n",
       "    .dataframe tbody tr th:only-of-type {\n",
       "        vertical-align: middle;\n",
       "    }\n",
       "\n",
       "    .dataframe tbody tr th {\n",
       "        vertical-align: top;\n",
       "    }\n",
       "\n",
       "    .dataframe thead th {\n",
       "        text-align: right;\n",
       "    }\n",
       "</style>\n",
       "<table border=\"1\" class=\"dataframe\">\n",
       "  <thead>\n",
       "    <tr style=\"text-align: right;\">\n",
       "      <th></th>\n",
       "      <th>level_0</th>\n",
       "      <th>project_name</th>\n",
       "      <th>artist</th>\n",
       "      <th>project_type</th>\n",
       "      <th>tracks</th>\n",
       "      <th>year</th>\n",
       "      <th>rating</th>\n",
       "    </tr>\n",
       "  </thead>\n",
       "  <tbody>\n",
       "    <tr>\n",
       "      <th>131</th>\n",
       "      <td>131</td>\n",
       "      <td>oj simpson</td>\n",
       "      <td>guilty simpson</td>\n",
       "      <td>album</td>\n",
       "      <td>24.0</td>\n",
       "      <td>2010.0</td>\n",
       "      <td>6.0</td>\n",
       "    </tr>\n",
       "    <tr>\n",
       "      <th>164</th>\n",
       "      <td>164</td>\n",
       "      <td>afro-beat airways</td>\n",
       "      <td>various artists</td>\n",
       "      <td>album</td>\n",
       "      <td>24.0</td>\n",
       "      <td>2015.0</td>\n",
       "      <td>8.0</td>\n",
       "    </tr>\n",
       "    <tr>\n",
       "      <th>171</th>\n",
       "      <td>171</td>\n",
       "      <td>i love you tonite</td>\n",
       "      <td>bare wires</td>\n",
       "      <td>track</td>\n",
       "      <td>23.0</td>\n",
       "      <td>1968.0</td>\n",
       "      <td>7.0</td>\n",
       "    </tr>\n",
       "    <tr>\n",
       "      <th>178</th>\n",
       "      <td>178</td>\n",
       "      <td>sports</td>\n",
       "      <td>weekend</td>\n",
       "      <td>album</td>\n",
       "      <td>28.0</td>\n",
       "      <td>1991.0</td>\n",
       "      <td>8.0</td>\n",
       "    </tr>\n",
       "    <tr>\n",
       "      <th>206</th>\n",
       "      <td>206</td>\n",
       "      <td>hurry up, we're dreaming</td>\n",
       "      <td>m83</td>\n",
       "      <td>album</td>\n",
       "      <td>22.0</td>\n",
       "      <td>2011.0</td>\n",
       "      <td>4.0</td>\n",
       "    </tr>\n",
       "    <tr>\n",
       "      <th>...</th>\n",
       "      <td>...</td>\n",
       "      <td>...</td>\n",
       "      <td>...</td>\n",
       "      <td>...</td>\n",
       "      <td>...</td>\n",
       "      <td>...</td>\n",
       "      <td>...</td>\n",
       "    </tr>\n",
       "    <tr>\n",
       "      <th>2384</th>\n",
       "      <td>2384</td>\n",
       "      <td>whole lotta red</td>\n",
       "      <td>playboi carti</td>\n",
       "      <td>redux</td>\n",
       "      <td>24.0</td>\n",
       "      <td>2020.0</td>\n",
       "      <td>5.0</td>\n",
       "    </tr>\n",
       "    <tr>\n",
       "      <th>2417</th>\n",
       "      <td>2417</td>\n",
       "      <td>shunka ryougen</td>\n",
       "      <td>haru nemuri</td>\n",
       "      <td>album</td>\n",
       "      <td>21.0</td>\n",
       "      <td>2022.0</td>\n",
       "      <td>7.0</td>\n",
       "    </tr>\n",
       "    <tr>\n",
       "      <th>2472</th>\n",
       "      <td>2472</td>\n",
       "      <td>before sh!t got weird</td>\n",
       "      <td>the cool kids</td>\n",
       "      <td>album</td>\n",
       "      <td>21.0</td>\n",
       "      <td>2022.0</td>\n",
       "      <td>7.0</td>\n",
       "    </tr>\n",
       "    <tr>\n",
       "      <th>2474</th>\n",
       "      <td>2474</td>\n",
       "      <td>un verano sin ti</td>\n",
       "      <td>bad bunny</td>\n",
       "      <td>album</td>\n",
       "      <td>23.0</td>\n",
       "      <td>2022.0</td>\n",
       "      <td>6.0</td>\n",
       "    </tr>\n",
       "    <tr>\n",
       "      <th>2479</th>\n",
       "      <td>2479</td>\n",
       "      <td>hiss</td>\n",
       "      <td>wormrot</td>\n",
       "      <td>album</td>\n",
       "      <td>21.0</td>\n",
       "      <td>2022.0</td>\n",
       "      <td>8.0</td>\n",
       "    </tr>\n",
       "  </tbody>\n",
       "</table>\n",
       "<p>109 rows × 7 columns</p>\n",
       "</div>"
      ],
      "text/plain": [
       "      level_0              project_name           artist project_type  tracks  \\\n",
       "131       131                oj simpson   guilty simpson        album    24.0   \n",
       "164       164         afro-beat airways  various artists        album    24.0   \n",
       "171       171         i love you tonite       bare wires        track    23.0   \n",
       "178       178                    sports          weekend        album    28.0   \n",
       "206       206  hurry up, we're dreaming              m83        album    22.0   \n",
       "...       ...                       ...              ...          ...     ...   \n",
       "2384     2384           whole lotta red    playboi carti        redux    24.0   \n",
       "2417     2417            shunka ryougen      haru nemuri        album    21.0   \n",
       "2472     2472     before sh!t got weird    the cool kids        album    21.0   \n",
       "2474     2474          un verano sin ti        bad bunny        album    23.0   \n",
       "2479     2479                      hiss          wormrot        album    21.0   \n",
       "\n",
       "        year  rating  \n",
       "131   2010.0     6.0  \n",
       "164   2015.0     8.0  \n",
       "171   1968.0     7.0  \n",
       "178   1991.0     8.0  \n",
       "206   2011.0     4.0  \n",
       "...      ...     ...  \n",
       "2384  2020.0     5.0  \n",
       "2417  2022.0     7.0  \n",
       "2472  2022.0     7.0  \n",
       "2474  2022.0     6.0  \n",
       "2479  2022.0     8.0  \n",
       "\n",
       "[109 rows x 7 columns]"
      ]
     },
     "execution_count": 55,
     "metadata": {},
     "output_type": "execute_result"
    }
   ],
   "source": [
    "# calculate IQR for column tracks\n",
    "Q1 = df['tracks'].quantile(0.25)\n",
    "Q3 = df['tracks'].quantile(0.75)\n",
    "IQR = Q3 - Q1\n",
    "\n",
    "# identify outliers\n",
    "threshold = 1.5\n",
    "outliersT = df[(df['tracks'] > Q3 + threshold * IQR)]\n",
    "outliersT"
   ]
  },
  {
   "cell_type": "code",
   "execution_count": 56,
   "metadata": {
    "colab": {
     "base_uri": "https://localhost:8080/",
     "height": 739
    },
    "id": "hRz2W0YodRH3",
    "outputId": "41cc3b76-3bf6-4a3c-df1c-79a043ef5916"
   },
   "outputs": [
    {
     "data": {
      "text/html": [
       "<div>\n",
       "<style scoped>\n",
       "    .dataframe tbody tr th:only-of-type {\n",
       "        vertical-align: middle;\n",
       "    }\n",
       "\n",
       "    .dataframe tbody tr th {\n",
       "        vertical-align: top;\n",
       "    }\n",
       "\n",
       "    .dataframe thead th {\n",
       "        text-align: right;\n",
       "    }\n",
       "</style>\n",
       "<table border=\"1\" class=\"dataframe\">\n",
       "  <thead>\n",
       "    <tr style=\"text-align: right;\">\n",
       "      <th></th>\n",
       "      <th>level_0</th>\n",
       "      <th>project_name</th>\n",
       "      <th>artist</th>\n",
       "      <th>project_type</th>\n",
       "      <th>tracks</th>\n",
       "      <th>year</th>\n",
       "      <th>rating</th>\n",
       "    </tr>\n",
       "  </thead>\n",
       "  <tbody>\n",
       "    <tr>\n",
       "      <th>18</th>\n",
       "      <td>18</td>\n",
       "      <td>raw power</td>\n",
       "      <td>iggy and the stooges</td>\n",
       "      <td>album</td>\n",
       "      <td>8.0</td>\n",
       "      <td>1973.0</td>\n",
       "      <td>5.0</td>\n",
       "    </tr>\n",
       "    <tr>\n",
       "      <th>69</th>\n",
       "      <td>69</td>\n",
       "      <td>tsol</td>\n",
       "      <td>shad</td>\n",
       "      <td>album</td>\n",
       "      <td>10.0</td>\n",
       "      <td>2001.0</td>\n",
       "      <td>6.0</td>\n",
       "    </tr>\n",
       "    <tr>\n",
       "      <th>103</th>\n",
       "      <td>103</td>\n",
       "      <td>discoverer</td>\n",
       "      <td>r.e.m.</td>\n",
       "      <td>track</td>\n",
       "      <td>12.0</td>\n",
       "      <td>2001.0</td>\n",
       "      <td>6.0</td>\n",
       "    </tr>\n",
       "    <tr>\n",
       "      <th>124</th>\n",
       "      <td>124</td>\n",
       "      <td>lights</td>\n",
       "      <td>interpol</td>\n",
       "      <td>track</td>\n",
       "      <td>11.0</td>\n",
       "      <td>2002.0</td>\n",
       "      <td>5.0</td>\n",
       "    </tr>\n",
       "    <tr>\n",
       "      <th>171</th>\n",
       "      <td>171</td>\n",
       "      <td>i love you tonite</td>\n",
       "      <td>bare wires</td>\n",
       "      <td>track</td>\n",
       "      <td>23.0</td>\n",
       "      <td>1968.0</td>\n",
       "      <td>7.0</td>\n",
       "    </tr>\n",
       "    <tr>\n",
       "      <th>176</th>\n",
       "      <td>176</td>\n",
       "      <td>2 forms of anger</td>\n",
       "      <td>brian eno</td>\n",
       "      <td>track</td>\n",
       "      <td>12.0</td>\n",
       "      <td>1983.0</td>\n",
       "      <td>7.0</td>\n",
       "    </tr>\n",
       "    <tr>\n",
       "      <th>178</th>\n",
       "      <td>178</td>\n",
       "      <td>sports</td>\n",
       "      <td>weekend</td>\n",
       "      <td>album</td>\n",
       "      <td>28.0</td>\n",
       "      <td>1991.0</td>\n",
       "      <td>8.0</td>\n",
       "    </tr>\n",
       "    <tr>\n",
       "      <th>191</th>\n",
       "      <td>191</td>\n",
       "      <td>the spits</td>\n",
       "      <td>the spits</td>\n",
       "      <td>album</td>\n",
       "      <td>9.0</td>\n",
       "      <td>2002.0</td>\n",
       "      <td>2.0</td>\n",
       "    </tr>\n",
       "    <tr>\n",
       "      <th>702</th>\n",
       "      <td>702</td>\n",
       "      <td>self-titled</td>\n",
       "      <td>comadre</td>\n",
       "      <td>album</td>\n",
       "      <td>15.0</td>\n",
       "      <td>1999.0</td>\n",
       "      <td>8.0</td>\n",
       "    </tr>\n",
       "    <tr>\n",
       "      <th>742</th>\n",
       "      <td>742</td>\n",
       "      <td>dorner vs. tookie compilation</td>\n",
       "      <td>hellfyre club</td>\n",
       "      <td>album</td>\n",
       "      <td>10.0</td>\n",
       "      <td>1999.0</td>\n",
       "      <td>7.0</td>\n",
       "    </tr>\n",
       "    <tr>\n",
       "      <th>861</th>\n",
       "      <td>861</td>\n",
       "      <td>world peace is none of your business</td>\n",
       "      <td>morrissey</td>\n",
       "      <td>album</td>\n",
       "      <td>10.0</td>\n",
       "      <td>1992.0</td>\n",
       "      <td>5.0</td>\n",
       "    </tr>\n",
       "    <tr>\n",
       "      <th>959</th>\n",
       "      <td>959</td>\n",
       "      <td>self-titled</td>\n",
       "      <td>murmur</td>\n",
       "      <td>album</td>\n",
       "      <td>12.0</td>\n",
       "      <td>1994.0</td>\n",
       "      <td>8.0</td>\n",
       "    </tr>\n",
       "    <tr>\n",
       "      <th>1194</th>\n",
       "      <td>1194</td>\n",
       "      <td>simple songs</td>\n",
       "      <td>jim o'rourke</td>\n",
       "      <td>album</td>\n",
       "      <td>4.0</td>\n",
       "      <td>1999.0</td>\n",
       "      <td>6.0</td>\n",
       "    </tr>\n",
       "    <tr>\n",
       "      <th>1238</th>\n",
       "      <td>1238</td>\n",
       "      <td>self-titled (white)</td>\n",
       "      <td>weezer</td>\n",
       "      <td>album</td>\n",
       "      <td>10.0</td>\n",
       "      <td>1994.0</td>\n",
       "      <td>8.0</td>\n",
       "    </tr>\n",
       "    <tr>\n",
       "      <th>1246</th>\n",
       "      <td>1246</td>\n",
       "      <td>self-titled (lp2)</td>\n",
       "      <td>american football</td>\n",
       "      <td>album</td>\n",
       "      <td>9.0</td>\n",
       "      <td>1999.0</td>\n",
       "      <td>5.0</td>\n",
       "    </tr>\n",
       "    <tr>\n",
       "      <th>1549</th>\n",
       "      <td>1549</td>\n",
       "      <td>planetarium</td>\n",
       "      <td>sufjan stevens, et al.</td>\n",
       "      <td>album</td>\n",
       "      <td>15.0</td>\n",
       "      <td>2003.0</td>\n",
       "      <td>5.0</td>\n",
       "    </tr>\n",
       "    <tr>\n",
       "      <th>1806</th>\n",
       "      <td>1806</td>\n",
       "      <td>untitled</td>\n",
       "      <td>rammstein</td>\n",
       "      <td>album</td>\n",
       "      <td>11.0</td>\n",
       "      <td>2001.0</td>\n",
       "      <td>5.0</td>\n",
       "    </tr>\n",
       "    <tr>\n",
       "      <th>1840</th>\n",
       "      <td>1840</td>\n",
       "      <td>self-titled (black)</td>\n",
       "      <td>weezer</td>\n",
       "      <td>album</td>\n",
       "      <td>10.0</td>\n",
       "      <td>1994.0</td>\n",
       "      <td>4.0</td>\n",
       "    </tr>\n",
       "    <tr>\n",
       "      <th>1952</th>\n",
       "      <td>1952</td>\n",
       "      <td>self-titled (teal)</td>\n",
       "      <td>weezer</td>\n",
       "      <td>album</td>\n",
       "      <td>10.0</td>\n",
       "      <td>1994.0</td>\n",
       "      <td>6.0</td>\n",
       "    </tr>\n",
       "    <tr>\n",
       "      <th>2055</th>\n",
       "      <td>2055</td>\n",
       "      <td>microphones in 2020</td>\n",
       "      <td>the microphones</td>\n",
       "      <td>album</td>\n",
       "      <td>20.0</td>\n",
       "      <td>2001.0</td>\n",
       "      <td>7.0</td>\n",
       "    </tr>\n",
       "    <tr>\n",
       "      <th>2063</th>\n",
       "      <td>2063</td>\n",
       "      <td>no</td>\n",
       "      <td>boris</td>\n",
       "      <td>album</td>\n",
       "      <td>11.0</td>\n",
       "      <td>1986.0</td>\n",
       "      <td>8.0</td>\n",
       "    </tr>\n",
       "    <tr>\n",
       "      <th>2399</th>\n",
       "      <td>2399</td>\n",
       "      <td>no fear of time</td>\n",
       "      <td>black star</td>\n",
       "      <td>album</td>\n",
       "      <td>13.0</td>\n",
       "      <td>1998.0</td>\n",
       "      <td>5.0</td>\n",
       "    </tr>\n",
       "  </tbody>\n",
       "</table>\n",
       "</div>"
      ],
      "text/plain": [
       "      level_0                          project_name                  artist  \\\n",
       "18         18                             raw power    iggy and the stooges   \n",
       "69         69                                  tsol                    shad   \n",
       "103       103                            discoverer                  r.e.m.   \n",
       "124       124                                lights                interpol   \n",
       "171       171                     i love you tonite              bare wires   \n",
       "176       176                      2 forms of anger               brian eno   \n",
       "178       178                                sports                 weekend   \n",
       "191       191                             the spits               the spits   \n",
       "702       702                           self-titled                 comadre   \n",
       "742       742         dorner vs. tookie compilation           hellfyre club   \n",
       "861       861  world peace is none of your business               morrissey   \n",
       "959       959                           self-titled                  murmur   \n",
       "1194     1194                          simple songs            jim o'rourke   \n",
       "1238     1238                   self-titled (white)                  weezer   \n",
       "1246     1246                     self-titled (lp2)       american football   \n",
       "1549     1549                           planetarium  sufjan stevens, et al.   \n",
       "1806     1806                              untitled               rammstein   \n",
       "1840     1840                   self-titled (black)                  weezer   \n",
       "1952     1952                    self-titled (teal)                  weezer   \n",
       "2055     2055                   microphones in 2020         the microphones   \n",
       "2063     2063                                    no                   boris   \n",
       "2399     2399                       no fear of time              black star   \n",
       "\n",
       "     project_type  tracks    year  rating  \n",
       "18          album     8.0  1973.0     5.0  \n",
       "69          album    10.0  2001.0     6.0  \n",
       "103         track    12.0  2001.0     6.0  \n",
       "124         track    11.0  2002.0     5.0  \n",
       "171         track    23.0  1968.0     7.0  \n",
       "176         track    12.0  1983.0     7.0  \n",
       "178         album    28.0  1991.0     8.0  \n",
       "191         album     9.0  2002.0     2.0  \n",
       "702         album    15.0  1999.0     8.0  \n",
       "742         album    10.0  1999.0     7.0  \n",
       "861         album    10.0  1992.0     5.0  \n",
       "959         album    12.0  1994.0     8.0  \n",
       "1194        album     4.0  1999.0     6.0  \n",
       "1238        album    10.0  1994.0     8.0  \n",
       "1246        album     9.0  1999.0     5.0  \n",
       "1549        album    15.0  2003.0     5.0  \n",
       "1806        album    11.0  2001.0     5.0  \n",
       "1840        album    10.0  1994.0     4.0  \n",
       "1952        album    10.0  1994.0     6.0  \n",
       "2055        album    20.0  2001.0     7.0  \n",
       "2063        album    11.0  1986.0     8.0  \n",
       "2399        album    13.0  1998.0     5.0  "
      ]
     },
     "execution_count": 56,
     "metadata": {},
     "output_type": "execute_result"
    }
   ],
   "source": [
    "# calculate IQR for column year\n",
    "Q1 = df['year'].quantile(0.25)\n",
    "Q3 = df['year'].quantile(0.75)\n",
    "IQR = Q3 - Q1\n",
    "\n",
    "# identify outliers\n",
    "outliersY = df[(df['year'] < Q1 - threshold * IQR) | (df['year'] > Q3 + threshold * IQR)]\n",
    "outliersY"
   ]
  },
  {
   "cell_type": "code",
   "execution_count": 57,
   "metadata": {
    "id": "TjokYZNdQlu0"
   },
   "outputs": [],
   "source": [
    "# choose to exculde the outliers because\n",
    "df = df.drop(outliers.index)"
   ]
  },
  {
   "cell_type": "code",
   "execution_count": null,
   "metadata": {
    "id": "Ixq7fNCQdhLF"
   },
   "outputs": [],
   "source": []
  }
 ],
 "metadata": {
  "colab": {
   "provenance": []
  },
  "kernelspec": {
   "display_name": "Python 3 (ipykernel)",
   "language": "python",
   "name": "python3"
  },
  "language_info": {
   "codemirror_mode": {
    "name": "ipython",
    "version": 3
   },
   "file_extension": ".py",
   "mimetype": "text/x-python",
   "name": "python",
   "nbconvert_exporter": "python",
   "pygments_lexer": "ipython3",
   "version": "3.11.8"
  }
 },
 "nbformat": 4,
 "nbformat_minor": 4
}
